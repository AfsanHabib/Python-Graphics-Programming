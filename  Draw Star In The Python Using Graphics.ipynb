{
 "cells": [
  {
   "cell_type": "code",
   "execution_count": 2,
   "metadata": {},
   "outputs": [],
   "source": [
    "import turtle\n",
    "a=turtle.Turtle()\n",
    "a.getscreen().bgcolor(\"black\")\n",
    "a.penup()\n",
    "a.goto(-200, 100)\n",
    "a.pendown()\n",
    "a.color(\"yellow\")\n",
    "a.speed(25)\n",
    "def star(turtle, size):\n",
    "    if size<=10:\n",
    "        return\n",
    "    else:\n",
    "        turtle.begin_fill()\n",
    "        for i in range (5):\n",
    "            turtle.pensize(2)\n",
    "            turtle.forward(size)\n",
    "            star(turtle, size/3)\n",
    "            turtle.left(216)\n",
    "            turtle.end_fill()\n",
    "star(a, 360)\n",
    "turtle.done()"
   ]
  },
  {
   "cell_type": "code",
   "execution_count": null,
   "metadata": {},
   "outputs": [],
   "source": []
  }
 ],
 "metadata": {
  "kernelspec": {
   "display_name": "Python 3",
   "language": "python",
   "name": "python3"
  },
  "language_info": {
   "codemirror_mode": {
    "name": "ipython",
    "version": 3
   },
   "file_extension": ".py",
   "mimetype": "text/x-python",
   "name": "python",
   "nbconvert_exporter": "python",
   "pygments_lexer": "ipython3",
   "version": "3.8.3"
  }
 },
 "nbformat": 4,
 "nbformat_minor": 4
}
