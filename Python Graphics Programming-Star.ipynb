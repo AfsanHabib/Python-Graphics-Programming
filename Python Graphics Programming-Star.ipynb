{
 "cells": [
  {
   "cell_type": "code",
   "execution_count": 1,
   "metadata": {},
   "outputs": [],
   "source": [
    "import turtle\n",
    "sc=turtle.Screen()\n",
    "sc.setup(600, 600)\n",
    "spiral=turtle.Turtle()\n",
    "spiral.speed(10)\n",
    "sc.bgcolor(\"white\")\n",
    "col = (\"black\", \"blue\", \"black\", \"blue\")\n",
    "c=0\n",
    "for i in range(110):\n",
    "    spiral.pensize(3)\n",
    "    spiral.forward(i*5)\n",
    "    spiral.right(144)\n",
    "    spiral.color(col[c])\n",
    "    if c==3:\n",
    "       c=0\n",
    "    else:\n",
    "       c+=1"
   ]
  }
 ],
 "metadata": {
  "kernelspec": {
   "display_name": "Python 3",
   "language": "python",
   "name": "python3"
  },
  "language_info": {
   "codemirror_mode": {
    "name": "ipython",
    "version": 3
   },
   "file_extension": ".py",
   "mimetype": "text/x-python",
   "name": "python",
   "nbconvert_exporter": "python",
   "pygments_lexer": "ipython3",
   "version": "3.8.3"
  }
 },
 "nbformat": 4,
 "nbformat_minor": 4
}
